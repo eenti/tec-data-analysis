{
 "cells": [
  {
   "cell_type": "markdown",
   "metadata": {},
   "source": [
    "### distribution rounds"
   ]
  },
  {
   "cell_type": "code",
   "execution_count": 4,
   "metadata": {},
   "outputs": [],
   "source": [
    "import pandas as pd\n",
    "import os"
   ]
  },
  {
   "cell_type": "code",
   "execution_count": 45,
   "metadata": {},
   "outputs": [],
   "source": [
    "# find every token allocation file\n",
    "rootdir = '/Users/rxx/Documents/GitHub/tec-data-analysis/reward_vs_payouts/tec-rewards/distribution_rounds'\n",
    "rewards_distrib = []\n",
    "\n",
    "for subdir, dirs, files in os.walk(rootdir):\n",
    "    for file in files:\n",
    "        if file == 'final_praise_token_allocation.csv':\n",
    "            rewards_distrib.append(os.path.join(subdir, file))"
   ]
  },
  {
   "cell_type": "code",
   "execution_count": 48,
   "metadata": {},
   "outputs": [],
   "source": [
    "# concat all of the token alloc files\n",
    "df = pd.concat(\n",
    "    map(pd.read_csv, rewards_distrib), ignore_index=True)"
   ]
  },
  {
   "cell_type": "code",
   "execution_count": 51,
   "metadata": {},
   "outputs": [],
   "source": [
    "# calculate total rewardboard payout\n",
    "df = df[[\"USER ADDRESS\", \"TOTAL TO RECEIVE\"]]\n",
    "df = df.groupby(['USER ADDRESS']).sum()"
   ]
  },
  {
   "cell_type": "code",
   "execution_count": 52,
   "metadata": {},
   "outputs": [
    {
     "name": "stdout",
     "output_type": "stream",
     "text": [
      "                                            TOTAL TO RECEIVE\n",
      "USER ADDRESS                                                \n",
      "0x00d18ca9782be1caef611017c2fbc1a39779a57c        473.306788\n",
      "0x05a45e7416c77c822e24e9679af29d1f07589b40        114.265994\n",
      "0x076d1faa88ee180a4cf83afc4379112727fc7a4a          0.863739\n",
      "0x0bf920dfe6d36829ab5b0e153857d4ca689e46fb       1835.745229\n",
      "0x0e76602324bd961e3e928b4bd5dc578b9883df11         16.569004\n"
     ]
    }
   ],
   "source": [
    "print(df.head())"
   ]
  }
 ],
 "metadata": {
  "kernelspec": {
   "display_name": "Python 3.10.5 64-bit",
   "language": "python",
   "name": "python3"
  },
  "language_info": {
   "codemirror_mode": {
    "name": "ipython",
    "version": 3
   },
   "file_extension": ".py",
   "mimetype": "text/x-python",
   "name": "python",
   "nbconvert_exporter": "python",
   "pygments_lexer": "ipython3",
   "version": "3.10.5"
  },
  "orig_nbformat": 4,
  "vscode": {
   "interpreter": {
    "hash": "e2bdf2a028e4c0f46e22d416f0deab0ae3fea4ff9b4a41a138a994e0b254cd68"
   }
  }
 },
 "nbformat": 4,
 "nbformat_minor": 2
}
