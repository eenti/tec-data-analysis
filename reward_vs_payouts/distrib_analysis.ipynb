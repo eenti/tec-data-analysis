{
 "cells": [
  {
   "cell_type": "markdown",
   "metadata": {},
   "source": [
    "### distribution rounds extraction"
   ]
  },
  {
   "cell_type": "code",
   "execution_count": 14,
   "metadata": {},
   "outputs": [],
   "source": [
    "import pandas as pd\n",
    "import os"
   ]
  },
  {
   "cell_type": "code",
   "execution_count": 15,
   "metadata": {},
   "outputs": [],
   "source": [
    "# find every token allocation file\n",
    "rootdir = '/Users/rxx/Documents/GitHub/tec-data-analysis/reward_vs_payouts/tec-rewards/distribution_rounds'\n",
    "rewards_distrib = []\n",
    "\n",
    "for subdir, dirs, files in os.walk(rootdir):\n",
    "    for file in files:\n",
    "        if file == 'final_praise_token_allocation.csv':\n",
    "            rewards_distrib.append(os.path.join(subdir, file))"
   ]
  },
  {
   "cell_type": "code",
   "execution_count": 16,
   "metadata": {},
   "outputs": [],
   "source": [
    "# concat all of the token alloc files\n",
    "df = pd.concat(\n",
    "    map(pd.read_csv, rewards_distrib), ignore_index=True)"
   ]
  },
  {
   "cell_type": "code",
   "execution_count": 17,
   "metadata": {},
   "outputs": [],
   "source": [
    "# calculate total rewardboard payout\n",
    "df1 = df[[\"USER ADDRESS\", \"TOTAL TO RECEIVE\"]]\n",
    "df1 = df1.loc[df[\"USER ADDRESS\"] != \"missing user address\"]\n",
    "df1 = df1.groupby(['USER ADDRESS']).sum()"
   ]
  },
  {
   "cell_type": "code",
   "execution_count": 24,
   "metadata": {},
   "outputs": [],
   "source": [
    "# final one to look at\n",
    "df_praise = df1.sort_values(by=[\"TOTAL TO RECEIVE\"], ascending=False)"
   ]
  },
  {
   "cell_type": "markdown",
   "metadata": {},
   "source": [
    "### dune data extraction"
   ]
  },
  {
   "cell_type": "markdown",
   "metadata": {},
   "source": [
    "extract a query data via reverse eng of the dune api"
   ]
  },
  {
   "cell_type": "code",
   "execution_count": 19,
   "metadata": {},
   "outputs": [],
   "source": [
    "import requests\n",
    "import json"
   ]
  },
  {
   "cell_type": "code",
   "execution_count": 20,
   "metadata": {},
   "outputs": [],
   "source": [
    "query_site = \"https://dune.com/queries/1256836\" \n",
    "url = \"https://core-hsr.dune.com/v1/graphql\"\n",
    "\n",
    "# first query\n",
    "\n",
    "payload = json.dumps({\n",
    "  \"operationName\": \"GetResult\",\n",
    "  \"variables\": {\n",
    "    \"query_id\": int(query_site.split('/')[-1]),\n",
    "    \"parameters\": [\n",
    "      {\n",
    "        \"key\": \"1. Start Date\",\n",
    "        \"type\": \"datetime\",\n",
    "        \"value\": \"2022-01-01 00:00:00\"\n",
    "      },\n",
    "      {\n",
    "        \"key\": \"2. End Date\",\n",
    "        \"type\": \"datetime\",\n",
    "        \"value\": \"2023-01-01 00:00:00\"\n",
    "      }\n",
    "    ]\n",
    "  },\n",
    "  \"query\": \"query GetResult($query_id: Int!, $parameters: [Parameter!]) {\\n  get_result_v2(query_id: $query_id, parameters: $parameters) {\\n    job_id\\n    result_id\\n    error_id\\n    __typename\\n  }\\n}\\n\"\n",
    "})\n",
    "headers = {\n",
    "  'content-type': 'application/json',\n",
    "  'x-hasura-api-key': ''\n",
    "}\n",
    "\n",
    "response = requests.request(\"POST\", url, headers=headers, data=payload)\n",
    "\n",
    "result_id = json.loads(response.text)['data']['get_result_v2']['result_id']"
   ]
  },
  {
   "cell_type": "code",
   "execution_count": 21,
   "metadata": {},
   "outputs": [],
   "source": [
    "# second query\n",
    "\n",
    "payload = \"{\\\"operationName\\\":\\\"FindResultDataByResult\\\",\\\"variables\\\":{\\\"result_id\\\":\\\"\"+result_id+\"\\\",\\\"error_id\\\":\\\"00000000-0000-0000-0000-000000000000\\\"},\\\"query\\\":\\\"query FindResultDataByResult($result_id: uuid!, $error_id: uuid!) {\\\\n  query_results(where: {id: {_eq: $result_id}}) {\\\\n    id\\\\n    job_id\\\\n    runtime\\\\n    generated_at\\\\n    columns\\\\n    __typename\\\\n  }\\\\n  query_errors(where: {id: {_eq: $error_id}}) {\\\\n    id\\\\n    job_id\\\\n    runtime\\\\n    message\\\\n    metadata\\\\n    type\\\\n    generated_at\\\\n    __typename\\\\n  }\\\\n  get_result_by_result_id(args: {want_result_id: $result_id}) {\\\\n    data\\\\n    __typename\\\\n  }\\\\n}\\\\n\\\"}\"\n",
    "headers = {\n",
    "  'x-hasura-api-key': '',\n",
    "  'Content-Type': 'text/plain'\n",
    "}\n",
    "\n",
    "response_2 = requests.request(\"POST\", url, headers=headers, data=payload)\n",
    "\n",
    "json_search = json.loads(response_2.text)['data']['get_result_by_result_id']\n",
    "\n",
    "data_dict = []\n",
    "\n",
    "for c in json_search:\n",
    "  data_dict.append(c[\"data\"])\n",
    "\n",
    "df2 = pd.DataFrame(data_dict)"
   ]
  },
  {
   "cell_type": "markdown",
   "metadata": {},
   "source": [
    "extract only the rows which are stables (xdai, wxdai, usdc)"
   ]
  },
  {
   "cell_type": "code",
   "execution_count": 25,
   "metadata": {},
   "outputs": [
    {
     "name": "stderr",
     "output_type": "stream",
     "text": [
      "C:\\Users\\rxx\\AppData\\Local\\Temp\\ipykernel_11440\\3270325130.py:2: FutureWarning: The default value of regex will change from True to False in a future version. In addition, single character regular expressions will *not* be treated as literal strings when regex=True.\n",
      "  df3.to = df3.to.str.replace(\"\\\\\", \"0\") # correct weird Dune address formats\n",
      "C:\\Users\\rxx\\AppData\\Local\\Temp\\ipykernel_11440\\3270325130.py:2: SettingWithCopyWarning: \n",
      "A value is trying to be set on a copy of a slice from a DataFrame.\n",
      "Try using .loc[row_indexer,col_indexer] = value instead\n",
      "\n",
      "See the caveats in the documentation: https://pandas.pydata.org/pandas-docs/stable/user_guide/indexing.html#returning-a-view-versus-a-copy\n",
      "  df3.to = df3.to.str.replace(\"\\\\\", \"0\") # correct weird Dune address formats\n"
     ]
    }
   ],
   "source": [
    "df3 = df2.loc[df2[\"symbol\"].isin([\"USDC\", \"xDAI\", \"WXDAI\"])]\n",
    "df3.to = df3.to.str.replace(\"\\\\\", \"0\") # correct weird Dune address formats \n",
    "df3 = df3[[\"to\", \"amt\"]]\n",
    "df3 = df3.groupby(['to']).sum()\n",
    "\n",
    "df_dune = df3.sort_values(by=[\"amt\"], ascending=False)"
   ]
  },
  {
   "cell_type": "markdown",
   "metadata": {},
   "source": [
    "## correlation / visualisation"
   ]
  },
  {
   "cell_type": "markdown",
   "metadata": {},
   "source": [
    "### corr"
   ]
  },
  {
   "cell_type": "code",
   "execution_count": 23,
   "metadata": {},
   "outputs": [
    {
     "ename": "NameError",
     "evalue": "name 'x' is not defined",
     "output_type": "error",
     "traceback": [
      "\u001b[1;31m---------------------------------------------------------------------------\u001b[0m",
      "\u001b[1;31mNameError\u001b[0m                                 Traceback (most recent call last)",
      "Cell \u001b[1;32mIn [23], line 1\u001b[0m\n\u001b[1;32m----> 1\u001b[0m \u001b[38;5;28mprint\u001b[39m(np\u001b[38;5;241m.\u001b[39mcorrcoef(\u001b[43mx\u001b[49m,y,\u001b[38;5;124m\"\u001b[39m\u001b[38;5;124mall\u001b[39m\u001b[38;5;124m\"\u001b[39m))\n",
      "\u001b[1;31mNameError\u001b[0m: name 'x' is not defined"
     ]
    }
   ],
   "source": [
    "print(np.corrcoef(x,y,\"all\"))"
   ]
  },
  {
   "cell_type": "markdown",
   "metadata": {},
   "source": [
    "### visualisation"
   ]
  },
  {
   "cell_type": "code",
   "execution_count": 28,
   "metadata": {},
   "outputs": [],
   "source": [
    "import matplotlib.pyplot as plt\n",
    "import numpy as np\n",
    "from numpy.polynomial.polynomial import polyfit\n",
    "import math"
   ]
  },
  {
   "cell_type": "code",
   "execution_count": 35,
   "metadata": {},
   "outputs": [
    {
     "data": {
      "image/png": "[encoded data removed]",
      "text/plain": [
       "<Figure size 640x480 with 1 Axes>"
      ]
     },
     "metadata": {},
     "output_type": "display_data"
    }
   ],
   "source": [
    "df4 = pd.merge(df_dune, df_praise, left_on='to',\\\n",
    "               right_on='USER ADDRESS', how='inner')\n",
    "\n",
    "x = np.log(np.array(df4[\"TOTAL TO RECEIVE\"]))\n",
    "y = np.log(np.array(df4[\"amt\"]))\n",
    "\n",
    "fig, ax = plt.subplots()\n",
    "\n",
    "ax.set_ylabel('WG Stables Payouts', loc='top')\n",
    "ax.set_xlabel('Praise Distribution Rewards', loc='right')\n",
    "\n",
    "plt.scatter(x,y)\n",
    "# plt.xscale('log'); plt.yscale('log')\n",
    "plt.grid(True)\n",
    "\n",
    "b, m = polyfit(x, y, 1)\n",
    "\n",
    "plt.plot(x, y, '.')\n",
    "plt.plot(x, b + m * x, '-')\n",
    "\n",
    "plt.show()"
   ]
  }
 ],
 "metadata": {
  "kernelspec": {
   "display_name": "Python 3.10.5 64-bit",
   "language": "python",
   "name": "python3"
  },
  "language_info": {
   "codemirror_mode": {
    "name": "ipython",
    "version": 3
   },
   "file_extension": ".py",
   "mimetype": "text/x-python",
   "name": "python",
   "nbconvert_exporter": "python",
   "pygments_lexer": "ipython3",
   "version": "3.10.5"
  },
  "orig_nbformat": 4,
  "vscode": {
   "interpreter": {
    "hash": "e2bdf2a028e4c0f46e22d416f0deab0ae3fea4ff9b4a41a138a994e0b254cd68"
   }
  }
 },
 "nbformat": 4,
 "nbformat_minor": 2
}
